{
 "cells": [
  {
   "cell_type": "markdown",
   "id": "16b90468-aaa5-4412-83b5-002c945c1300",
   "metadata": {},
   "source": [
    "Elements located via parent_xpath/type[@class=\"class-name\"]"
   ]
  },
  {
   "cell_type": "markdown",
   "id": "36d756a8-6042-492c-9860-6ad935b3f3a5",
   "metadata": {},
   "source": [
    "Dependencies"
   ]
  },
  {
   "cell_type": "code",
   "execution_count": 1,
   "id": "d972377e-41d9-47b9-9c44-16245a2a973c",
   "metadata": {},
   "outputs": [],
   "source": [
    "from selenium import webdriver\n",
    "from selenium.webdriver.support.select import Select\n",
    "from selenium.webdriver.common.by import By\n",
    "from selenium.webdriver.support.ui import WebDriverWait\n",
    "from selenium.webdriver.support import expected_conditions as EC\n",
    "from selenium.common.exceptions import TimeoutException, NoSuchElementException, ElementClickInterceptedException, ElementNotInteractableException\n",
    "\n",
    "import time"
   ]
  },
  {
   "cell_type": "markdown",
   "id": "1a11e8f7-9df1-49ef-b555-92ac86d99d14",
   "metadata": {},
   "source": [
    "Constants"
   ]
  },
  {
   "cell_type": "code",
   "execution_count": 2,
   "id": "a1a9dcf1-4c3a-478b-af59-f7cd0942d13b",
   "metadata": {},
   "outputs": [],
   "source": [
    "player_team = (\"gyarados,DRAGON_BREATH,AQUA_TAIL,CRUNCH\\n\"\n",
    "                \"trevenant,SUCKER_PUNCH,SHADOW_BALL,FOUL_PLAY\\n\"\n",
    "                \"jellicent,HEX,BUBBLE_BEAM,SHADOW_BALL\")\n",
    "opp_team = (\"slaking,YAWN,BODY_SLAM\\n\"\n",
    "            \"porygon-z,LOCK_ON,FRUSTRATION\\n\"\n",
    "            \"audino,POUND,HYPER_BEAM\")\n",
    "league = '1500 gobattleleague'\n",
    "difficulty = '0' # 0 is novice 3 is champion"
   ]
  },
  {
   "cell_type": "markdown",
   "id": "68edd786-2fa0-4357-80e4-8800d7addadb",
   "metadata": {},
   "source": [
    "Set up selenium browser, go to pvpoke train page"
   ]
  },
  {
   "cell_type": "code",
   "execution_count": 3,
   "id": "fdbc6ac3-0226-443d-8b56-8ca1d16f9bda",
   "metadata": {},
   "outputs": [],
   "source": [
    "driver = webdriver.Chrome()\n",
    "#driver.implicitly_wait(0.3)"
   ]
  },
  {
   "cell_type": "code",
   "execution_count": 4,
   "id": "574fa2e8-8e95-487c-914c-24fec850894b",
   "metadata": {},
   "outputs": [],
   "source": [
    "driver.get('http://localhost/pvpoke/src/train/')"
   ]
  },
  {
   "cell_type": "markdown",
   "id": "21f70158-acc3-477c-9d2f-ead8cee78f74",
   "metadata": {},
   "source": [
    "Set up Player Team"
   ]
  },
  {
   "cell_type": "code",
   "execution_count": 5,
   "id": "2ea44858-16fe-46ef-8be3-fbd220d683db",
   "metadata": {},
   "outputs": [],
   "source": [
    "# Your Team Import/Export\n",
    "driver.find_element_by_xpath('//*[@id=\"main\"]/div[4]/div[1]/div[1]/div/div[1]/button[@class=\"export-btn\"]').click()\n",
    "time.sleep(0.1)\n",
    "\n",
    "# Team Text Area\n",
    "player_team_import = driver.find_element_by_xpath('/html/body/div[2]/div/div[3]/div/textarea[@class=\"list-text\"]')\n",
    "player_team_import.send_keys(player_team)\n",
    "time.sleep(0.1)\n",
    "\n",
    "# Import Team\n",
    "driver.find_element_by_xpath('/html/body/div[2]/div/div[3]/div/div[2]/div[@class=\"button import\"]').click()"
   ]
  },
  {
   "cell_type": "markdown",
   "id": "e7c6622e-cd0b-4989-885f-1fb7b30bef65",
   "metadata": {},
   "source": [
    "Choose League"
   ]
  },
  {
   "cell_type": "code",
   "execution_count": 6,
   "id": "165e462f-fd85-47fb-b097-7f6087f7e367",
   "metadata": {},
   "outputs": [],
   "source": [
    "#League & Cup\n",
    "league_select = driver.find_element_by_xpath('//*[@id=\"main\"]/div[4]/div[2]/div/select[@class=\"league-cup-select\"]')\n",
    "Select(league_select).select_by_value(league)"
   ]
  },
  {
   "cell_type": "markdown",
   "id": "d06ea245-8386-4908-965d-8c04f512fde0",
   "metadata": {},
   "source": [
    "Set Difficulty"
   ]
  },
  {
   "cell_type": "code",
   "execution_count": 7,
   "id": "6937c2a4-4a52-41f2-a93f-d4527135a9b6",
   "metadata": {},
   "outputs": [],
   "source": [
    "difficulty_select = driver.find_element_by_xpath('//*[@id=\"main\"]/div[4]/div[2]/div/select[@class=\"difficulty-select\"]')\n",
    "Select(difficulty_select).select_by_value(difficulty)"
   ]
  },
  {
   "cell_type": "markdown",
   "id": "f4f8b3ad-36f8-498a-b22b-20cda8f95411",
   "metadata": {},
   "source": [
    "Set up Opponent Team"
   ]
  },
  {
   "cell_type": "code",
   "execution_count": 8,
   "id": "9bc764e2-1055-42de-95ef-0eeaceefa848",
   "metadata": {},
   "outputs": [],
   "source": [
    "# Team Selection\n",
    "opp_team_select = driver.find_element_by_xpath('//*[@id=\"main\"]/div[4]/div[2]/div/select[@class=\"team-method-select\"]')\n",
    "Select(opp_team_select).select_by_value('manual')\n",
    "time.sleep(0.1)\n",
    "\n",
    "# Import/Export\n",
    "driver.find_element_by_xpath('//*[@id=\"main\"]/div[4]/div[2]/div/div[2]/div/div[1]/button[@class=\"export-btn\"]').click()\n",
    "time.sleep(0.1)\n",
    "\n",
    "# Text Area\n",
    "opp_team_import = driver.find_element_by_xpath('/html/body/div[2]/div/div[3]/div/textarea[@class=\"list-text\"]')\n",
    "opp_team_import.send_keys(opp_team)\n",
    "time.sleep(0.1)\n",
    "\n",
    "\n",
    "driver.find_element_by_xpath('/html/body/div[2]/div/div[3]/div/div[2]/div[@class=\"button import\"]').click()"
   ]
  },
  {
   "cell_type": "markdown",
   "id": "9b16e1b6-a4d7-4daa-8145-1742dcfc2dd3",
   "metadata": {},
   "source": [
    "Start Battle"
   ]
  },
  {
   "cell_type": "code",
   "execution_count": 9,
   "id": "523a0002-4a39-4b61-94c7-e1fff757549d",
   "metadata": {},
   "outputs": [],
   "source": [
    "driver.find_element_by_xpath('//*[@id=\"main\"]/div[5]/button[@class=\"battle-btn button\"]').click()"
   ]
  },
  {
   "cell_type": "markdown",
   "id": "3c2c20fc-d2f0-4a20-9773-b745f1ef1490",
   "metadata": {},
   "source": [
    "Interfacing"
   ]
  },
  {
   "cell_type": "code",
   "execution_count": 10,
   "id": "2936377f-e85a-406f-a5f7-6f0fcd42fe39",
   "metadata": {
    "tags": []
   },
   "outputs": [],
   "source": [
    "battle_window_xpath = '//*[@id=\"main\"]/div[@class=\"section battle\"]/div[@class=\"battle-window\"]'\n",
    "\n",
    "#get_element = lambda xpath : driver.find_element_by_xpath(battle_window_xpath+xpath)\n",
    "def get_element(lpath):\n",
    "    classes = lpath.split('/')[1:]\n",
    "    xpath = ''\n",
    "    for class_name in classes:\n",
    "        xpath += '/div[contains(@class, \"' + class_name + '\")]'\n",
    "    print('By.XPATH(battle_root + \\''+xpath+'\\')')\n",
    "    return driver.find_element_by_xpath(battle_window_xpath+xpath)"
   ]
  },
  {
   "cell_type": "code",
   "execution_count": 11,
   "id": "c54ba3f6-9266-420b-beb5-7df977574fb6",
   "metadata": {},
   "outputs": [
    {
     "name": "stdout",
     "output_type": "stream",
     "text": [
      "By.XPATH(battle_root + '')\n",
      "By.XPATH(battle_root + '/div[contains(@class, \"top\")]/div[contains(@class, \"timer\")]/div[contains(@class, \"text\")]')\n",
      "By.XPATH(battle_root + '/div[contains(@class, \"top\")]/div[contains(@class, \"team-indicator left\")]/div[contains(@class, \"name\")]')\n",
      "By.XPATH(battle_root + '/div[contains(@class, \"top\")]/div[contains(@class, \"team-indicator left\")]/div[contains(@class, \"cp\")]')\n",
      "By.XPATH(battle_root + '/div[contains(@class, \"top\")]/div[contains(@class, \"team-indicator left\")]/div[contains(@class, \"balls\")]')\n",
      "By.XPATH(battle_root + '/div[contains(@class, \"top\")]/div[contains(@class, \"team-indicator left\")]/div[contains(@class, \"shields left\")]')\n",
      "By.XPATH(battle_root + '/div[contains(@class, \"top\")]/div[contains(@class, \"team-indicator right\")]/div[contains(@class, \"name\")]')\n",
      "By.XPATH(battle_root + '/div[contains(@class, \"top\")]/div[contains(@class, \"team-indicator right\")]/div[contains(@class, \"cp\")]')\n",
      "By.XPATH(battle_root + '/div[contains(@class, \"top\")]/div[contains(@class, \"team-indicator right\")]/div[contains(@class, \"balls\")]')\n",
      "By.XPATH(battle_root + '/div[contains(@class, \"top\")]/div[contains(@class, \"team-indicator right\")]/div[contains(@class, \"shields right\")]')\n",
      "By.XPATH(battle_root + '/div[contains(@class, \"scene\")]/div[contains(@class, \"pokemon-container self\")]/div[contains(@class, \"hp bar-back\")]/div[contains(@class, \"bar damage\")]')\n",
      "By.XPATH(battle_root + '/div[contains(@class, \"scene\")]/div[contains(@class, \"pokemon-container opponent\")]/div[contains(@class, \"hp bar-back\")]/div[contains(@class, \"bar damage\")]')\n",
      "By.XPATH(battle_root + '/div[contains(@class, \"controls\")]/div[contains(@class, \"move-bars\")]')\n",
      "By.XPATH(battle_root + '/div[contains(@class, \"shield-window\")]')\n",
      "By.XPATH(battle_root + '/div[contains(@class, \"shield-window\")]/div[contains(@class, \"container\")]/div[contains(@class, \"shield\")]')\n",
      "By.XPATH(battle_root + '/div[contains(@class, \"shield-window\")]/div[contains(@class, \"container\")]/div[contains(@class, \"close\")]')\n",
      "By.XPATH(battle_root + '/div[contains(@class, \"charge-window\")]/div[contains(@class, \"container\")]/div[contains(@class, \"charge\")]')\n",
      "By.XPATH(battle_root + '/div[contains(@class, \"switch-sidebar\")]/div[contains(@class, \"container\")]/div[contains(@class, \"pokemon-container\")]')\n",
      "By.XPATH(battle_root + '/div[contains(@class, \"switch-sidebar\")]/div[contains(@class, \"container\")]/div[contains(@class, \"pokemon-container\")]/div[contains(@class, \"pokemon\")]/div[contains(@class, \"switch-timer\")]')\n",
      "By.XPATH(battle_root + '/div[contains(@class, \"switch-window\")]/div[contains(@class, \"container\")]/div[contains(@class, \"pokemon-container\")]')\n",
      "By.XPATH(battle_root + '/div[contains(@class, \"animate-message\")]/div[contains(@class, \"text\")]')\n"
     ]
    }
   ],
   "source": [
    "battle_window = get_element('')\n",
    "get_battle_phase = lambda : battle_window.get_attribute('phase')\n",
    "#print(get_battle_phase())\n",
    "\n",
    "\n",
    "### class top ###\n",
    "# other options from here: pokemon types\n",
    "\n",
    "timer = get_element('/top/timer/text')\n",
    "get_timer = lambda : int(timer.text if timer.text != '' else -1)\n",
    "\n",
    "player_top_xpath = '/top/team-indicator left'\n",
    "pokemon = get_element(player_top_xpath+'/name')\n",
    "get_pokemon = lambda : pokemon.text\n",
    "pokemon_cp = get_element(player_top_xpath+'/cp')\n",
    "get_cp = lambda : int(pokemon_cp.text[3:])\n",
    "#print(get_cp)\n",
    "\n",
    "# num of pokemon_remaining's children that don't have 'fainted'\n",
    "# use get_pokemon_remaining() to get number\n",
    "pokemon_remaining = get_element(player_top_xpath+'/balls')\n",
    "get_pokemon_remaining = lambda : len(pokemon_remaining.find_elements_by_xpath('.//div[@class=\"ball\"]'))\n",
    "#print(get_pokemon_remaining())\n",
    "\n",
    "shields_remaining = get_element(player_top_xpath+'/shields left')\n",
    "get_shields_remaining = lambda : int(shields_remaining.text)\n",
    "\n",
    "opp_top_xpath = '/top/team-indicator right'\n",
    "opp_pokemon = get_element(opp_top_xpath+'/name')\n",
    "get_opp_pokemon = lambda : opp_pokemon.text\n",
    "opp_pokemon_cp = get_element(opp_top_xpath+'/cp')\n",
    "get_opp_cp = lambda : int(opp_pokemon_cp.text[3:])\n",
    "#print(get_opp_cp)\n",
    "\n",
    "opp_pokemon_remaining = get_element(opp_top_xpath+'/balls')\n",
    "get_opp_pokemon_remaining = lambda : len(opp_pokemon_remaining.find_elements_by_xpath('.//div[@class=\"ball\"]'))\n",
    "#print(get_opp_pokemon_remaining())\n",
    "\n",
    "opp_shields_remaining = get_element(opp_top_xpath+'/shields right')\n",
    "get_opp_shields_remaining = lambda : int(shields_remaining.text)\n",
    "\n",
    "\n",
    "\n",
    "### class scene ###\n",
    "# other options from here: turns per fast move\n",
    "pokemon_hp = get_element('/scene/pokemon-container self/hp bar-back/bar damage')\n",
    "get_pokemon_hp = lambda : float(pokemon_hp.get_attribute('style')[7:-2])\n",
    "#print(get_pokemon_hp())\n",
    "\n",
    "opp_pokemon_hp = get_element('/scene/pokemon-container opponent/hp bar-back/bar damage')\n",
    "get_opp_pokemon_hp = lambda : float(opp_pokemon_hp.get_attribute('style')[7:-2])\n",
    "#print(get_opp_pokemon_hp())\n",
    "\n",
    "\n",
    "\n",
    "### class controls ###\n",
    "# other options from here: player move names, pause, restart, quit, auto-tap buttons\n",
    "\n",
    "# if charged_move[i].get_attribute('class') includes 'active', a charged move can be used\n",
    "charged_move_container = get_element('/controls/move-bars')\n",
    "charged_move_elems = charged_move_container.find_elements_by_class_name('move-bar')\n",
    "def get_charged_moves():\n",
    "    charged_moves = []\n",
    "    for charged_move in charged_move_elems:\n",
    "        ready = 'active' in charged_move.get_attribute('class')\n",
    "        bars = charged_move.find_elements_by_class_name('bar')\n",
    "        charges = [(66.0 -  float(bar.get_attribute('style')[5:-3]))/66.0 for bar in bars]\n",
    "        \n",
    "        charged_moves.append((charged_move, ready, charges))\n",
    "    return charged_moves\n",
    "\n",
    "#print(get_charged_moves())\n",
    "\n",
    "\n",
    "\n",
    "### class shield-window ###\n",
    "shield_window = get_element('/shield-window')\n",
    "get_shield_window_closed = lambda : 'closed' in shield_window.get_attribute('class')\n",
    "shield_button = get_element('/shield-window/container/shield')\n",
    "no_shield_button = get_element('/shield-window/container/close')\n",
    "\n",
    "\n",
    "\n",
    "### class charge-window ###\n",
    "charge_elem = get_element('/charge-window/container/charge')\n",
    "get_charge = lambda : int(charge_elem.text[0:-1] if charge_elem.text != '' else 0)\n",
    "#print(get_charge())\n",
    "\n",
    "\n",
    "\n",
    "### class switch-sidebar ###\n",
    "# 'pokemon' loses active is fainted\n",
    "party_container = get_element('/switch-sidebar/container/pokemon-container')\n",
    "party_elem = party_container.find_elements_by_class_name('pokemon')\n",
    "def get_party():\n",
    "    party = []\n",
    "    for poke in party_elem:\n",
    "        num = int(poke.get_attribute('index'))\n",
    "        name = poke.find_element_by_class_name('name').text\n",
    "        fainted = 'active' not in poke.get_attribute('class')\n",
    "        # health bar maxes at 75%\n",
    "        #health = float(poke.find_element_by_class_name('health').text[7:-2])\n",
    "        party.append((poke, num, name, fainted))\n",
    "    return party\n",
    "\n",
    "switch_timer = get_element('/switch-sidebar/container/pokemon-container/pokemon/switch-timer')\n",
    "get_switch_timer = lambda : int(switch_timer.text if switch_timer.text != '' else 0)\n",
    "#print(get_party())\n",
    "#print(get_switch_timer())\n",
    "\n",
    "\n",
    "\n",
    "### class switch-window ###\n",
    "switch_container = get_element('/switch-window/container/pokemon-container')\n",
    "switch_elems = switch_container.find_elements_by_class_name('pokemon')\n",
    "def get_switch_options():\n",
    "    party = []\n",
    "    for poke in switch_elems:\n",
    "        num = int(poke.get_attribute('index'))\n",
    "        name = poke.find_element_by_class_name('name').text\n",
    "        # health bar maxes at 75%\n",
    "        #health = float(poke.find_element_by_class_name('health').text[7:-2])\n",
    "        party.append((poke, num, name))\n",
    "    return party\n",
    "#print(get_switch_options())\n",
    "\n",
    "\n",
    "\n",
    "### class animate-message ###\n",
    "# animate message shows opponents charged move name\n",
    "animate_message = get_element('/animate-message/text')\n",
    "get_animate_message = lambda : animate_message.text\n",
    "\n",
    "#print(get_animate_message())"
   ]
  },
  {
   "cell_type": "code",
   "execution_count": 12,
   "id": "cf9d39c0-d949-4d3a-a176-5abb657352f0",
   "metadata": {},
   "outputs": [
    {
     "name": "stdout",
     "output_type": "stream",
     "text": [
      "\n"
     ]
    }
   ],
   "source": [
    "battle_window = driver.find_element(By.CSS_SELECTOR, '.battle-window')\n",
    "#battle_window.find_element(By.CSS_SELECTOR, '.shield-window')\n",
    "timer = '.top .team-indicator.left .name'\n",
    "print(driver.find_element_by_css_selector(timer).text)"
   ]
  },
  {
   "cell_type": "code",
   "execution_count": 13,
   "id": "495e2d24-843b-4ba2-941c-5cd985eaa0e4",
   "metadata": {},
   "outputs": [
    {
     "ename": "AttributeError",
     "evalue": "'str' object has no attribute 'text'",
     "output_type": "error",
     "traceback": [
      "\u001b[0;31m---------------------------------------------------------------------------\u001b[0m",
      "\u001b[0;31mAttributeError\u001b[0m                            Traceback (most recent call last)",
      "\u001b[0;32m/var/folders/rd/l69z53b94mjg4mxfp4y6br_c0000gn/T/ipykernel_41382/1629054369.py\u001b[0m in \u001b[0;36m<module>\u001b[0;34m\u001b[0m\n\u001b[1;32m     43\u001b[0m             \u001b[0mswitched\u001b[0m \u001b[0;34m=\u001b[0m \u001b[0;32mFalse\u001b[0m\u001b[0;34m\u001b[0m\u001b[0;34m\u001b[0m\u001b[0m\n\u001b[1;32m     44\u001b[0m \u001b[0;34m\u001b[0m\u001b[0m\n\u001b[0;32m---> 45\u001b[0;31m             print('### Time', get_timer(), 'update ###\\n\\n'+\\\n\u001b[0m\u001b[1;32m     46\u001b[0m                   \u001b[0;34m'## Player ##\\n'\u001b[0m\u001b[0;34m+\u001b[0m\u001b[0;31m\\\u001b[0m\u001b[0;34m\u001b[0m\u001b[0;34m\u001b[0m\u001b[0m\n\u001b[1;32m     47\u001b[0m                   \u001b[0;34m'Active Pokemon: '\u001b[0m\u001b[0;34m+\u001b[0m\u001b[0mget_pokemon\u001b[0m\u001b[0;34m(\u001b[0m\u001b[0;34m)\u001b[0m\u001b[0;34m,\u001b[0m \u001b[0mget_cp\u001b[0m\u001b[0;34m(\u001b[0m\u001b[0;34m)\u001b[0m\u001b[0;34m,\u001b[0m \u001b[0;34m'CP\\n'\u001b[0m\u001b[0;34m+\u001b[0m\u001b[0;31m\\\u001b[0m\u001b[0;34m\u001b[0m\u001b[0;34m\u001b[0m\u001b[0m\n",
      "\u001b[0;32m/var/folders/rd/l69z53b94mjg4mxfp4y6br_c0000gn/T/ipykernel_41382/494015405.py\u001b[0m in \u001b[0;36m<lambda>\u001b[0;34m()\u001b[0m\n\u001b[1;32m      8\u001b[0m \u001b[0;34m\u001b[0m\u001b[0m\n\u001b[1;32m      9\u001b[0m \u001b[0mtimer\u001b[0m \u001b[0;34m=\u001b[0m \u001b[0mget_element\u001b[0m\u001b[0;34m(\u001b[0m\u001b[0;34m'/top/timer/text'\u001b[0m\u001b[0;34m)\u001b[0m\u001b[0;34m\u001b[0m\u001b[0;34m\u001b[0m\u001b[0m\n\u001b[0;32m---> 10\u001b[0;31m \u001b[0mget_timer\u001b[0m \u001b[0;34m=\u001b[0m \u001b[0;32mlambda\u001b[0m \u001b[0;34m:\u001b[0m \u001b[0mint\u001b[0m\u001b[0;34m(\u001b[0m\u001b[0mtimer\u001b[0m\u001b[0;34m.\u001b[0m\u001b[0mtext\u001b[0m \u001b[0;32mif\u001b[0m \u001b[0mtimer\u001b[0m\u001b[0;34m.\u001b[0m\u001b[0mtext\u001b[0m \u001b[0;34m!=\u001b[0m \u001b[0;34m''\u001b[0m \u001b[0;32melse\u001b[0m \u001b[0;34m-\u001b[0m\u001b[0;36m1\u001b[0m\u001b[0;34m)\u001b[0m\u001b[0;34m\u001b[0m\u001b[0;34m\u001b[0m\u001b[0m\n\u001b[0m\u001b[1;32m     11\u001b[0m \u001b[0;34m\u001b[0m\u001b[0m\n\u001b[1;32m     12\u001b[0m \u001b[0mplayer_top_xpath\u001b[0m \u001b[0;34m=\u001b[0m \u001b[0;34m'/top/team-indicator left'\u001b[0m\u001b[0;34m\u001b[0m\u001b[0;34m\u001b[0m\u001b[0m\n",
      "\u001b[0;31mAttributeError\u001b[0m: 'str' object has no attribute 'text'"
     ]
    }
   ],
   "source": [
    "#info\n",
    "shields = 2\n",
    "switched = False\n",
    "previous_phase = ''\n",
    "\n",
    "while (True):\n",
    "    time.sleep(0.1)\n",
    "    battle_phase = get_battle_phase()\n",
    "    time.sleep(0.1)\n",
    "    \n",
    "    # check if game has ended\n",
    "    if battle_phase == 'game_over_screen':\n",
    "        break\n",
    "        \n",
    "    # suspend_charged_no_shields if user has no more shields\n",
    "    # check if opponent using charged move\n",
    "    elif battle_phase == 'suspend_charged_shield':\n",
    "        shield_button.click()\n",
    "            \n",
    "    # check if player using charged move\n",
    "    elif battle_phase == 'suspend_charged_attack':\n",
    "        charge = get_charge()\n",
    "        if charge < 100:\n",
    "            webdriver.ActionChains(driver).click_and_hold(charge_elem).perform()\n",
    "            time.sleep(2)\n",
    "            webdriver.ActionChains(driver).release().perform()\n",
    "            \n",
    "        \n",
    "    # check if first pokemon fainted\n",
    "    elif battle_phase == 'suspend_switch_self':\n",
    "        print(\"Switched should be false:\", switched)\n",
    "        if not switched:\n",
    "            party = get_switch_options()\n",
    "            party[0][0].click()\n",
    "            switched = True\n",
    "        \n",
    "    # normal battle phase, can do fast move, charged move, or switch\n",
    "    elif battle_phase == 'neutral':\n",
    "        \n",
    "        # update info\n",
    "        if previous_phase != 'neutral':\n",
    "            shields = get_shields_remaining()\n",
    "            switched = False\n",
    "            \n",
    "            print('### Time', get_timer(), 'update ###\\n\\n'+\\\n",
    "                  '## Player ##\\n'+\\\n",
    "                  'Active Pokemon: '+get_pokemon(), get_cp(), 'CP\\n'+\\\n",
    "                  'HP Remaining:', get_pokemon_hp(), '%\\n'+\\\n",
    "                  'Pokemon Remaining:', get_pokemon_remaining(), '\\n'+\\\n",
    "                  #'Shields Remaining:', get_shields_remaining(), '\\n\\n'+\\\n",
    "                  '## Opponent ##\\n'+\\\n",
    "                  'Active Pokemon:', get_opp_pokemon(), get_opp_cp(), 'CP\\n'+\\\n",
    "                  'HP Remaining:', get_opp_pokemon_hp(), '%\\n'+\\\n",
    "                  'Pokemon Remaining:', get_opp_pokemon_remaining(), '\\n'+\\\n",
    "                  #'Shields Remaining:', get_opp_shields_remaining(), '\\n\\n\\n'\n",
    "                  '')\n",
    "            \n",
    "        \n",
    "        # check if a charged move is ready\n",
    "        charged_moves = get_charged_moves()\n",
    "        print(\"charged move 1 is at\", charged_moves[0][2][0])\n",
    "        print(\"chaged move 2 is at\", charged_moves[1][2][0])\n",
    "        if charged_moves[1][1]:\n",
    "            charged_moves[1][0].click()\n",
    "        elif charged_moves[0][1]:\n",
    "            charged_moves[0][0].click()\n",
    "    \n",
    "        # if no charged move available then fast move\n",
    "        else:\n",
    "            battle_window.click()\n",
    "\n",
    "    \n",
    "    previous_phase = battle_phase\n",
    "    time.sleep(0.5)"
   ]
  },
  {
   "cell_type": "markdown",
   "id": "ec4d5b91-60bb-46a7-8a90-1ba47e8c6432",
   "metadata": {},
   "source": [
    "New Match (Go Back to Player Team)"
   ]
  },
  {
   "cell_type": "code",
   "execution_count": null,
   "id": "f6642156-66b5-47a1-a923-ff14429356e8",
   "metadata": {},
   "outputs": [],
   "source": [
    "driver.find_element_by_xpath('//*[@id=\"main\"]/div[7]/div/div[12]/div/div[2]/div[@class=\"button new-match\"]').click()"
   ]
  },
  {
   "cell_type": "code",
   "execution_count": null,
   "id": "e7d0160f-287c-4dd1-a31d-3a21454246e1",
   "metadata": {},
   "outputs": [],
   "source": []
  }
 ],
 "metadata": {
  "kernelspec": {
   "display_name": "Python 3 (ipykernel)",
   "language": "python",
   "name": "python3"
  },
  "language_info": {
   "codemirror_mode": {
    "name": "ipython",
    "version": 3
   },
   "file_extension": ".py",
   "mimetype": "text/x-python",
   "name": "python",
   "nbconvert_exporter": "python",
   "pygments_lexer": "ipython3",
   "version": "3.9.7"
  }
 },
 "nbformat": 4,
 "nbformat_minor": 5
}
